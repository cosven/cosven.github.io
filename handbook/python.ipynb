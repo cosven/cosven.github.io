{
 "cells": [
  {
   "cell_type": "markdown",
   "metadata": {},
   "source": [
    "##### 字符串 format 如何得到这种 {value} 形式的字符串\n",
    "\n"
   ]
  },
  {
   "cell_type": "code",
   "execution_count": 4,
   "metadata": {},
   "outputs": [
    {
     "data": {
      "text/plain": [
       "'{hello,world}'"
      ]
     },
     "execution_count": 4,
     "metadata": {},
     "output_type": "execute_result"
    }
   ],
   "source": [
    "'{{{hosts}}}'.format(hosts=','.join(['hello', 'world']))"
   ]
  },
  {
   "cell_type": "markdown",
   "metadata": {},
   "source": [
    "\n",
    "### python 描述符\n",
    "\n",
    "```python\n",
    "\n",
    "class A(object):\n",
    "    @property\n",
    "    def h(self):\n",
    "        return 1\n",
    "\n",
    "a = A()\n",
    "```\n",
    "\n",
    "##### A.b, a.b 分别是如何工作的？\n",
    "\n",
    "> For objects, the machinery is in `object.__getattribute__()` which transforms b.x into `type(b).__dict__['x'].__get__(b, type(b))`. The implementation works through a precedence chain that gives data descriptors priority over instance variables, instance variables priority over non-data descriptors, and assigns lowest priority to `__getattr__()` if provided. The full C implementation can be found in PyObject_GenericGetAttr() in Objects/object.c.\n",
    "\n",
    "> For classes, the machinery is in `type.__getattribute__()` which transforms B.x into `B.__dict__['x'].__get__(None, B)`. In pure Python, it looks like:"
   ]
  },
  {
   "cell_type": "markdown",
   "metadata": {},
   "source": []
  }
 ],
 "metadata": {
  "kernelspec": {
   "display_name": "Python 3",
   "language": "python",
   "name": "python3"
  },
  "language_info": {
   "codemirror_mode": {
    "name": "ipython",
    "version": 3
   },
   "file_extension": ".py",
   "mimetype": "text/x-python",
   "name": "python",
   "nbconvert_exporter": "python",
   "pygments_lexer": "ipython3",
   "version": "3.5.2"
  }
 },
 "nbformat": 4,
 "nbformat_minor": 2
}
